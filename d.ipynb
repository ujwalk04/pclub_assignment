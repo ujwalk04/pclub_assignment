{
 "cells": [
  {
   "cell_type": "code",
   "execution_count": 64,
   "id": "828c9b80",
   "metadata": {},
   "outputs": [],
   "source": [
    "import pandas as pd\n",
    "import matplotlib.pyplot as plt\n",
    "import numpy as np"
   ]
  },
  {
   "cell_type": "code",
   "execution_count": 112,
   "id": "de519834",
   "metadata": {},
   "outputs": [],
   "source": [
    "x=np.random.rand(100,1);   #generating a numpy array of random values"
   ]
  },
  {
   "cell_type": "code",
   "execution_count": 113,
   "id": "a487db6c",
   "metadata": {},
   "outputs": [],
   "source": [
    "x=(x-np.mean(x))/np.std(x);      #Normalising the data"
   ]
  },
  {
   "cell_type": "code",
   "execution_count": 143,
   "id": "e2ba703a",
   "metadata": {},
   "outputs": [],
   "source": [
    "y=(x*x)+4*x+4                  #quadratic function "
   ]
  },
  {
   "cell_type": "code",
   "execution_count": 144,
   "id": "d8a77b90",
   "metadata": {},
   "outputs": [
    {
     "data": {
      "text/plain": [
       "[<matplotlib.lines.Line2D at 0x1b61950c160>]"
      ]
     },
     "execution_count": 144,
     "metadata": {},
     "output_type": "execute_result"
    },
    {
     "data": {
      "image/png": "[encoded data removed]",
      "text/plain": [
       "<Figure size 432x288 with 1 Axes>"
      ]
     },
     "metadata": {
      "needs_background": "light"
     },
     "output_type": "display_data"
    }
   ],
   "source": [
    "plt.plot(x,y,'ro')     #Plotting the curve"
   ]
  },
  {
   "cell_type": "code",
   "execution_count": 154,
   "id": "fb327aa0",
   "metadata": {},
   "outputs": [
    {
     "data": {
      "text/plain": [
       "(0.29339675285989747, 0.04910168176628448, -0.02962783283357526)"
      ]
     },
     "execution_count": 154,
     "metadata": {},
     "output_type": "execute_result"
    }
   ],
   "source": [
    "#Assigning random values to the parameters. We have 3 parameters here : a,b,c \n",
    "weights=np.random.randn(3)\n",
    "a=weights[0]\n",
    "b=weights[1]\n",
    "c=weights[2]\n",
    "a,b,c"
   ]
  },
  {
   "cell_type": "code",
   "execution_count": 155,
   "id": "c63eb03c",
   "metadata": {},
   "outputs": [],
   "source": [
    "costs=[]   #list which would store the values of cost function after each iteration\n",
    "m=100    #number of training examples\n",
    "lr=0.000001  #learning rate for gradient descent algorithm\n",
    "epoch=50000 #Number of iterations of our training loop"
   ]
  },
  {
   "cell_type": "code",
   "execution_count": 156,
   "id": "037bd5ad",
   "metadata": {},
   "outputs": [
    {
     "name": "stdout",
     "output_type": "stream",
     "text": [
      "Cost after 0 iteration :  1893485.6528712215\n",
      "Cost after 1000 iteration :  132.21937673611575\n",
      "Cost after 2000 iteration :  59.280435137700174\n",
      "Cost after 3000 iteration :  36.53623782869226\n",
      "Cost after 4000 iteration :  25.76398689300184\n",
      "Cost after 5000 iteration :  19.585944465022006\n",
      "Cost after 6000 iteration :  15.624100817039544\n",
      "Cost after 7000 iteration :  12.889271366558544\n",
      "Cost after 8000 iteration :  10.899921474166415\n",
      "Cost after 9000 iteration :  9.39495028244353\n",
      "Cost after 10000 iteration :  8.221147847206264\n",
      "Cost after 11000 iteration :  7.283004755522299\n",
      "Cost after 12000 iteration :  6.51805793959089\n",
      "Cost after 13000 iteration :  5.883833851391604\n",
      "Cost after 14000 iteration :  5.350503028757807\n",
      "Cost after 15000 iteration :  4.896537405212077\n",
      "Cost after 16000 iteration :  4.506033868803408\n",
      "Cost after 17000 iteration :  4.167005376124522\n",
      "Cost after 18000 iteration :  3.870256098116779\n",
      "Cost after 19000 iteration :  3.608621097615903\n",
      "Cost after 20000 iteration :  3.376440283653806\n",
      "Cost after 21000 iteration :  3.169186858949665\n",
      "Cost after 22000 iteration :  2.9832000049887846\n",
      "Cost after 23000 iteration :  2.815489350505975\n",
      "Cost after 24000 iteration :  2.6635897921515737\n",
      "Cost after 25000 iteration :  2.525452227646467\n",
      "Cost after 26000 iteration :  2.3993602934759046\n",
      "Cost after 27000 iteration :  2.2838661949078163\n",
      "Cost after 28000 iteration :  2.1777407323346214\n",
      "Cost after 29000 iteration :  2.0799340073842134\n",
      "Cost after 30000 iteration :  1.9895442503926182\n",
      "Cost after 31000 iteration :  1.9057928856902842\n",
      "Cost after 32000 iteration :  1.8280044326466933\n",
      "Cost after 33000 iteration :  1.7555901880894613\n",
      "Cost after 34000 iteration :  1.688034889569005\n",
      "Cost after 35000 iteration :  1.6248857462291415\n",
      "Cost after 36000 iteration :  1.565743363574764\n",
      "Cost after 37000 iteration :  1.5102541933289702\n",
      "Cost after 38000 iteration :  1.4581042191172213\n",
      "Cost after 39000 iteration :  1.4090136495220948\n",
      "Cost after 40000 iteration :  1.3627324368874498\n",
      "Cost after 41000 iteration :  1.3190364765875475\n",
      "Cost after 42000 iteration :  1.2777243698555112\n",
      "Cost after 43000 iteration :  1.2386146555789586\n",
      "Cost after 44000 iteration :  1.2015434341166935\n",
      "Cost after 45000 iteration :  1.1663623202285565\n",
      "Cost after 46000 iteration :  1.1329366734429165\n",
      "Cost after 47000 iteration :  1.1011440632153677\n",
      "Cost after 48000 iteration :  1.0708729335332172\n",
      "Cost after 49000 iteration :  1.0420214375465249\n"
     ]
    }
   ],
   "source": [
    "#Training Loop\n",
    "for i in range(epoch):\n",
    "    y_pred=(a*x*x)+(b*x)+c       #predicted value , here y.shape is (100,)\n",
    "    #print(y_pred.shape)\n",
    "    y_pred=np.reshape(y_pred,(100,1))         #reshaping into (100,1)\n",
    "    \n",
    "    #Our cost function \n",
    "    cost=(1/(2 * m)) * np.sum(abs(np.power((y-y_pred),7)))\n",
    "    \n",
    "    #Printing calculated cost \n",
    "    if i%1000==0:\n",
    "        print(\"Cost after\",i,\"iteration : \",cost)\n",
    "    costs.append(cost)   #Appending value of cost calculated in each iteration\n",
    "    \n",
    "    #Calculating values of gradients with respect to params : a,b,c\n",
    "    da=0;db=0;dc=0     #Initialising the gradients to zero\n",
    "    #Calculating gradients for each iteration with suitable conditions\n",
    "    for i in range(m):\n",
    "        if(y[i]>y_pred[i]):\n",
    "            da=da-(3.5/m)*(((x*x))[i]*((y[i]-y_pred[i])**6))\n",
    "        elif(y[i]==y_pred[i]):\n",
    "            continue\n",
    "        else:\n",
    "            da=da+(3.5/m)*(((x*x)[i])*((y[i]-y_pred[i])**6))\n",
    "    for i in range(m):\n",
    "        if(y[i]>y_pred[i]):\n",
    "            db=db-(3.5/m)*(x[i]*((y[i]-y_pred[i])**6))\n",
    "        elif(y[i]==y_pred[i]):\n",
    "            continue\n",
    "        else:\n",
    "            db=db+(3.5/m)*((x[i])*((y[i]-y_pred[i])**6))\n",
    "    for i in range(m):\n",
    "        if(y[i]>y_pred[i]):\n",
    "            dc=dc-(3.5/m)*np.sum((y[i]-y_pred[i])**6)\n",
    "        elif(y[i]==y_pred[i]):\n",
    "            continue\n",
    "        else:\n",
    "            dc=dc+(3.5/m)*np.sum((y[i]-y_pred[i])**6)\n",
    "            \n",
    "    #Updating the parameters\n",
    "    a=a-(lr*da)\n",
    "    b=b-(lr*db)\n",
    "    c=c-(lr*dc)\n",
    "    "
   ]
  },
  {
   "cell_type": "code",
   "execution_count": 157,
   "id": "cb95d476",
   "metadata": {},
   "outputs": [
    {
     "data": {
      "text/plain": [
       "(array([1.60432681]), array([3.76253947]), 2.730168342604349)"
      ]
     },
     "execution_count": 157,
     "metadata": {},
     "output_type": "execute_result"
    }
   ],
   "source": [
    "#Predicted values\n",
    "a,b,c"
   ]
  },
  {
   "cell_type": "code",
   "execution_count": 158,
   "id": "58a98e8f",
   "metadata": {},
   "outputs": [],
   "source": [
    "#Calculating predicted values using predicted parameters\n",
    "pred=a*x*x+b*x+c"
   ]
  },
  {
   "cell_type": "code",
   "execution_count": 174,
   "id": "0ff2457a",
   "metadata": {},
   "outputs": [
    {
     "data": {
      "image/png": "[encoded data removed]",
      "text/plain": [
       "<Figure size 432x288 with 1 Axes>"
      ]
     },
     "metadata": {
      "needs_background": "light"
     },
     "output_type": "display_data"
    }
   ],
   "source": [
    "#Plotting the true curve along with the predicted one\n",
    "plt.scatter(x,pred,color='b',label=\"predicted curve\")          #predicted curve\n",
    "plt.scatter(x,y,color='r',label=\"original curve\")              #original curve\n",
    "plt.legend(loc=\"upper left\")\n",
    "plt.show()"
   ]
  },
  {
   "cell_type": "code",
   "execution_count": 179,
   "id": "52474816",
   "metadata": {
    "scrolled": true
   },
   "outputs": [
    {
     "data": {
      "image/png": "[encoded data removed]",
      "text/plain": [
       "<Figure size 432x288 with 1 Axes>"
      ]
     },
     "metadata": {
      "needs_background": "light"
     },
     "output_type": "display_data"
    }
   ],
   "source": [
    "#Cost Plot\n",
    "plt.plot(costs[1:])\n",
    "plt.xlabel('No. of iterations')\n",
    "plt.ylabel('Cost')\n",
    "plt.show()"
   ]
  },
  {
   "cell_type": "code",
   "execution_count": 175,
   "id": "4e484b6e",
   "metadata": {},
   "outputs": [
    {
     "data": {
      "image/png": "[encoded data removed]",
      "text/plain": [
       "<Figure size 432x288 with 1 Axes>"
      ]
     },
     "metadata": {
      "needs_background": "light"
     },
     "output_type": "display_data"
    }
   ],
   "source": [
    "#Cost function plot after 10k epochs\n",
    "plt.plot(costs[10000:])\n",
    "plt.xlabel('No. of iterations')\n",
    "plt.ylabel('Cost')\n",
    "plt.show()"
   ]
  },
  {
   "cell_type": "code",
   "execution_count": null,
   "id": "de8d2a31",
   "metadata": {},
   "outputs": [],
   "source": []
  },
  {
   "cell_type": "code",
   "execution_count": null,
   "id": "c5c582c7",
   "metadata": {},
   "outputs": [],
   "source": []
  }
 ],
 "metadata": {
  "kernelspec": {
   "display_name": "Python 3",
   "language": "python",
   "name": "python3"
  },
  "language_info": {
   "codemirror_mode": {
    "name": "ipython",
    "version": 3
   },
   "file_extension": ".py",
   "mimetype": "text/x-python",
   "name": "python",
   "nbconvert_exporter": "python",
   "pygments_lexer": "ipython3",
   "version": "3.8.8"
  }
 },
 "nbformat": 4,
 "nbformat_minor": 5
}
