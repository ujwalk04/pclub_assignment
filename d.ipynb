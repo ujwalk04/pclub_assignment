{
 "cells": [
  {
   "cell_type": "code",
   "execution_count": 64,
   "id": "a37a3195",
   "metadata": {},
   "outputs": [],
   "source": [
    "import pandas as pd\n",
    "import matplotlib.pyplot as plt\n",
    "import numpy as np"
   ]
  },
  {
   "cell_type": "code",
   "execution_count": 112,
   "id": "6d7b028d",
   "metadata": {},
   "outputs": [],
   "source": [
    "x=np.random.rand(100,1);   #generating a numpy array of random values"
   ]
  },
  {
   "cell_type": "code",
   "execution_count": 113,
   "id": "cb8a5dc3",
   "metadata": {},
   "outputs": [],
   "source": [
    "x=(x-np.mean(x))/np.std(x);      #Normalising the data"
   ]
  },
  {
   "cell_type": "code",
   "execution_count": null,
   "id": "51a6ae10",
   "metadata": {},
   "outputs": [],
   "source": []
  },
  {
   "cell_type": "code",
   "execution_count": 143,
   "id": "39404cfe",
   "metadata": {},
   "outputs": [],
   "source": [
    "y=(x*x)+4*x+4)       #quadratic function 
   ]
  },
  {
   "cell_type": "code",
   "execution_count": 144,
   "id": "191328e1",
   "metadata": {},
   "outputs": [
    {
     "data": {
      "text/plain": [
       "[<matplotlib.lines.Line2D at 0x1b61950c160>]"
      ]
     },
     "execution_count": 144,
     "metadata": {},
     "output_type": "execute_result"
    },
    {
     "data": {
      "image/png": "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\n",
      "text/plain": [
       "<Figure size 432x288 with 1 Axes>"
      ]
     },
     "metadata": {
      "needs_background": "light"
     },
     "output_type": "display_data"
    }
   ],
   "source": [
    "plt.plot(x,y,'ro')     #Plotting the curve"
   ]
  },
  {
   "cell_type": "code",
   "execution_count": 154,
   "id": "6df60205",
   "metadata": {},
   "outputs": [
    {
     "data": {
      "text/plain": [
       "(0.29339675285989747, 0.04910168176628448, -0.02962783283357526)"
      ]
     },
     "execution_count": 154,
     "metadata": {},
     "output_type": "execute_result"
    }
   ],
   "source": [
    "#Assigning random values to the parameters. We have 3 parameters here : a,b,c \n",
    "weights=np.random.randn(3)\n",
    "a=weights[0]\n",
    "b=weights[1]\n",
    "c=weights[2]\n",
    "a,b,c"
   ]
  },
  {
   "cell_type": "code",
   "execution_count": 155,
   "id": "f5410d15",
   "metadata": {},
   "outputs": [],
   "source": [
    "costs=[]   #list which would store the values of cost function after each iteration\n",
    "m=100    #number of training examples\n",
    "lr=0.000001  #learning rate for gradient descent algorithm\n",
    "epoch=50000 #Number of iterations of our training loop"
   ]
  },
  {
   "cell_type": "code",
   "execution_count": 156,
   "id": "ec6648de",
   "metadata": {},
   "outputs": [
    {
     "name": "stdout",
     "output_type": "stream",
     "text": [
      "Cost after 0 iteration :  1893485.6528712215\n",
      "Cost after 1000 iteration :  132.21937673611575\n",
      "Cost after 2000 iteration :  59.280435137700174\n",
      "Cost after 3000 iteration :  36.53623782869226\n",
      "Cost after 4000 iteration :  25.76398689300184\n",
      "Cost after 5000 iteration :  19.585944465022006\n",
      "Cost after 6000 iteration :  15.624100817039544\n",
      "Cost after 7000 iteration :  12.889271366558544\n",
      "Cost after 8000 iteration :  10.899921474166415\n",
      "Cost after 9000 iteration :  9.39495028244353\n",
      "Cost after 10000 iteration :  8.221147847206264\n",
      "Cost after 11000 iteration :  7.283004755522299\n",
      "Cost after 12000 iteration :  6.51805793959089\n",
      "Cost after 13000 iteration :  5.883833851391604\n",
      "Cost after 14000 iteration :  5.350503028757807\n",
      "Cost after 15000 iteration :  4.896537405212077\n",
      "Cost after 16000 iteration :  4.506033868803408\n",
      "Cost after 17000 iteration :  4.167005376124522\n",
      "Cost after 18000 iteration :  3.870256098116779\n",
      "Cost after 19000 iteration :  3.608621097615903\n",
      "Cost after 20000 iteration :  3.376440283653806\n",
      "Cost after 21000 iteration :  3.169186858949665\n",
      "Cost after 22000 iteration :  2.9832000049887846\n",
      "Cost after 23000 iteration :  2.815489350505975\n",
      "Cost after 24000 iteration :  2.6635897921515737\n",
      "Cost after 25000 iteration :  2.525452227646467\n",
      "Cost after 26000 iteration :  2.3993602934759046\n",
      "Cost after 27000 iteration :  2.2838661949078163\n",
      "Cost after 28000 iteration :  2.1777407323346214\n",
      "Cost after 29000 iteration :  2.0799340073842134\n",
      "Cost after 30000 iteration :  1.9895442503926182\n",
      "Cost after 31000 iteration :  1.9057928856902842\n",
      "Cost after 32000 iteration :  1.8280044326466933\n",
      "Cost after 33000 iteration :  1.7555901880894613\n",
      "Cost after 34000 iteration :  1.688034889569005\n",
      "Cost after 35000 iteration :  1.6248857462291415\n",
      "Cost after 36000 iteration :  1.565743363574764\n",
      "Cost after 37000 iteration :  1.5102541933289702\n",
      "Cost after 38000 iteration :  1.4581042191172213\n",
      "Cost after 39000 iteration :  1.4090136495220948\n",
      "Cost after 40000 iteration :  1.3627324368874498\n",
      "Cost after 41000 iteration :  1.3190364765875475\n",
      "Cost after 42000 iteration :  1.2777243698555112\n",
      "Cost after 43000 iteration :  1.2386146555789586\n",
      "Cost after 44000 iteration :  1.2015434341166935\n",
      "Cost after 45000 iteration :  1.1663623202285565\n",
      "Cost after 46000 iteration :  1.1329366734429165\n",
      "Cost after 47000 iteration :  1.1011440632153677\n",
      "Cost after 48000 iteration :  1.0708729335332172\n",
      "Cost after 49000 iteration :  1.0420214375465249\n"
     ]
    }
   ],
   "source": [
    "#Training Loop\n",
    "for i in range(epoch):\n",
    "    y_pred=(a*x*x)+(b*x)+c       #predicted value , here y.shape is (100,)\n",
    "    #print(y_pred.shape)\n",
    "    y_pred=np.reshape(y_pred,(100,1))         #reshaping into (100,1)\n",
    "    \n",
    "    #Our cost function \n",
    "    cost=(1/(2 * m)) * np.sum(abs(np.power((y-y_pred),7)))\n",
    "    \n",
    "    #Printing calculated cost \n",
    "    if i%1000==0:\n",
    "        print(\"Cost after\",i,\"iteration : \",cost)\n",
    "    costs.append(cost)   #Appending value of cost calculated in each iteration\n",
    "    \n",
    "    #Calculating values of gradients with respect to params : a,b,c\n",
    "    da=0;db=0;dc=0     #Initialising the gradients to zero\n",
    "    #Calculating gradients for each iteration with suitable conditions\n",
    "    for i in range(m):\n",
    "        if(y[i]>y_pred[i]):\n",
    "            da=da-(3.5/m)*(((x*x))[i]*((y[i]-y_pred[i])**6))\n",
    "        elif(y[i]==y_pred[i]):\n",
    "            continue\n",
    "        else:\n",
    "            da=da+(3.5/m)*(((x*x)[i])*((y[i]-y_pred[i])**6))\n",
    "    for i in range(m):\n",
    "        if(y[i]>y_pred[i]):\n",
    "            db=db-(3.5/m)*(x[i]*((y[i]-y_pred[i])**6))\n",
    "        elif(y[i]==y_pred[i]):\n",
    "            continue\n",
    "        else:\n",
    "            db=db+(3.5/m)*((x[i])*((y[i]-y_pred[i])**6))\n",
    "    for i in range(m):\n",
    "        if(y[i]>y_pred[i]):\n",
    "            dc=dc-(3.5/m)*np.sum((y[i]-y_pred[i])**6)\n",
    "        elif(y[i]==y_pred[i]):\n",
    "            continue\n",
    "        else:\n",
    "            dc=dc+(3.5/m)*np.sum((y[i]-y_pred[i])**6)\n",
    "            \n",
    "    #Updating the parameters\n",
    "    a=a-(lr*da)\n",
    "    b=b-(lr*db)\n",
    "    c=c-(lr*dc)\n",
    "    "
   ]
  },
  {
   "cell_type": "code",
   "execution_count": 157,
   "id": "62e772b4",
   "metadata": {},
   "outputs": [
    {
     "data": {
      "text/plain": [
       "(array([1.60432681]), array([3.76253947]), 2.730168342604349)"
      ]
     },
     "execution_count": 157,
     "metadata": {},
     "output_type": "execute_result"
    }
   ],
   "source": [
    "#Predicted values\n",
    "a,b,c"
   ]
  },
  {
   "cell_type": "code",
   "execution_count": 158,
   "id": "a82ec0d9",
   "metadata": {},
   "outputs": [],
   "source": [
    "#Calculating predicted values using predicted parameters\n",
    "pred=a*x*x+b*x+c"
   ]
  },
  {
   "cell_type": "code",
   "execution_count": 159,
   "id": "1d196bc8",
   "metadata": {},
   "outputs": [
    {
     "data": {
      "image/png": "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\n",
      "text/plain": [
       "<Figure size 432x288 with 1 Axes>"
      ]
     },
     "metadata": {
      "needs_background": "light"
     },
     "output_type": "display_data"
    }
   ],
   "source": [
    "#Plotting the true curve along with the predicted one\n",
    "plt.scatter(x,pred,color='b')          #predicted curve\n",
    "plt.scatter(x,y,color='r')             #original curve\n",
    "plt.show()"
   ]
  },
  {
   "cell_type": "code",
   "execution_count": 172,
   "id": "2340e49c",
   "metadata": {},
   "outputs": [
    {
     "data": {
      "text/plain": [
       "[<matplotlib.lines.Line2D at 0x1b619110e20>]"
      ]
     },
     "execution_count": 172,
     "metadata": {},
     "output_type": "execute_result"
    },
    {
     "data": {
      "image/png": "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\n",
      "text/plain": [
       "<Figure size 432x288 with 1 Axes>"
      ]
     },
     "metadata": {
      "needs_background": "light"
     },
     "output_type": "display_data"
    }
   ],
   "source": [
    "#Cost Plot\n",
    "plt.plot(costs)"
   ]
  },
  {
   "cell_type": "code",
   "execution_count": 173,
   "id": "92b5a41c",
   "metadata": {},
   "outputs": [
    {
     "data": {
      "text/plain": [
       "[<matplotlib.lines.Line2D at 0x1b619177190>]"
      ]
     },
     "execution_count": 173,
     "metadata": {},
     "output_type": "execute_result"
    },
    {
     "data": {
      "image/png": "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\n",
      "text/plain": [
       "<Figure size 432x288 with 1 Axes>"
      ]
     },
     "metadata": {
      "needs_background": "light"
     },
     "output_type": "display_data"
    }
   ],
   "source": [
    "plt.plot(costs[10000:])"
   ]
  },
  {
   "cell_type": "code",
   "execution_count": null,
   "id": "eecd2eac",
   "metadata": {},
   "outputs": [],
   "source": []
  },
  {
   "cell_type": "code",
   "execution_count": null,
   "id": "74ada60e",
   "metadata": {},
   "outputs": [],
   "source": []
  }
 ],
 "metadata": {
  "kernelspec": {
   "display_name": "Python 3",
   "language": "python",
   "name": "python3"
  },
  "language_info": {
   "codemirror_mode": {
    "name": "ipython",
    "version": 3
   },
   "file_extension": ".py",
   "mimetype": "text/x-python",
   "name": "python",
   "nbconvert_exporter": "python",
   "pygments_lexer": "ipython3",
   "version": "3.8.8"
  }
 },
 "nbformat": 4,
 "nbformat_minor": 5
}
