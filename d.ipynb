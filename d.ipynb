{
 "cells": [
  {
   "cell_type": "code",
   "execution_count": 64,
   "id": "0f2968a7",
   "metadata": {},
   "outputs": [],
   "source": [
    "import pandas as pd\n",
    "import matplotlib.pyplot as plt\n",
    "import numpy as np"
   ]
  },
  {
   "cell_type": "code",
   "execution_count": 112,
   "id": "ff73ba47",
   "metadata": {},
   "outputs": [],
   "source": [
    "x=np.random.rand(100,1);   #generating a numpy array of random values"
   ]
  },
  {
   "cell_type": "code",
   "execution_count": 113,
   "id": "4e3a6ec5",
   "metadata": {},
   "outputs": [],
   "source": [
    "x=(x-np.mean(x))/np.std(x);      #Normalising the data"
   ]
  },
  {
   "cell_type": "code",
   "execution_count": null,
   "id": "6d7d1e76",
   "metadata": {},
   "outputs": [],
   "source": []
  },
  {
   "cell_type": "code",
   "execution_count": 143,
   "id": "381d50d2",
   "metadata": {},
   "outputs": [],
   "source": [
    "y=(x*x)+4*x+4                  #quadratic function 
   ]
  },
  {
   "cell_type": "code",
   "execution_count": 144,
   "id": "3abf16da",
   "metadata": {},
   "outputs": [
    {
     "data": {
      "text/plain": [
       "[<matplotlib.lines.Line2D at 0x1b61950c160>]"
      ]
     },
     "execution_count": 144,
     "metadata": {},
     "output_type": "execute_result"
    },
    {
     "data": {
      "image/png": "iVBORw0KGgoAAAANSUhEUgAAAXAAAAD4CAYAAAD1jb0+AAAAOXRFWHRTb2Z0d2FyZQBNYXRwbG90bGliIHZlcnNpb24zLjMuNCwgaHR0cHM6Ly9tYXRwbG90bGliLm9yZy8QVMy6AAAACXBIWXMAAAsTAAALEwEAmpwYAAAXX0lEQVR4nO3dfYxcZ3XH8d/ZtQ1dExSyXl6Dd0FC6QuiAlaIF4miJlRRGhH6RyXQ2BgHycmO2m6rSiVopfKXpVKqCletnazAxthX4Q8KJapCm5AWoUoQdZ0mkOBAKM2akBSvnRYau9Qve/rHnZudnb1vM3Nn7r0z34+02p071ztHN9Hx4/Oc53nM3QUAqJ+JsgMAAPSGBA4ANUUCB4CaIoEDQE2RwAGgprYN88N27drlc3Nzw/xIAKi9U6dOnXP3mc7rQ03gc3NzWllZGeZHAkDtmdlq3HVKKABQUyRwAKgpEjgA1BQJHABqigQOADVFAgeAQQoCaW5OmpgIvwdBYb96qG2EADBWgkA6cEC6eDF8vboavpakRqPvX88IHAAGZWlpI3lHLl4MrxeABA4Ag3LmTHfXu0QCB4Aitde8JxJS7O7dhXwUNXAAKEoQSPv3S5cvh6+vXt16z9SUdPBgIR/HCBwAinLHHRvJu93EhGQmzc5Ky8uFTGBKjMABoBhBIF24EP/e+ro0gPOHGYEDQBEK6izpBgkcAIqQ1lkyPT2QjySBA0AR0jpLDh0ayEeSwAGgCAcPhh0m7cykhYXCJi07kcABoAiNRthhMju70XFy4oR0+PDAPpIuFAAoSqMxsNF2HEbgAFBTJHAAqKnMBG5mR83srJk93nbt02b2pJl9x8y+YmbXDjRKAKiCAe7t3Ys8I/DPS7q549qDkt7s7m+R9ANJnyg4LgColmhv79XVcFVltLd3iUk8M4G7+zclPd9x7QF3v9J6+W1J1w8gNgCohiCQ9u0b6N7evSiiBn67pK8lvWlmB8xsxcxW1tbWCvg4ABiiaOQdt7OgVNje3r3oK4Gb2ZKkK5IS/w3h7svuPu/u8zMzM/18HAAM3+Li1pF3u4L29u5Fz33gZrZP0q2SbnQfwDZbAFC2IJDOn09+v8C9vXvRUwI3s5slfVzSb7h7yl9NAFBjafXtyclC9/buRZ42wnslfUvSDWb2jJl9TNJfS7pG0oNm9qiZ3T3gOAFg+NLq28ePl5q8pRwjcHf/cMzlzw0gFgColt27w3bBTtPTpSdviZWYAJAsbofBqamBbQ/bLRI4ACSJ22Gw5Lp3O3YjBIA0Q95hsBuMwAGgpkjgAMZbxTao6gYlFADjK1omH620jDaokipbNmnHCBzA+FpaqtwGVd0ggQMYT0EQ3+MtlbpBVTdI4ADGT1Q6SVLiBlXdIIEDGD9xpZNIyRtUdYMEDmD8pJVIKrRQJwsJHMB4aG8XnEhIfbOztUneEm2EAMZBsyndfXd4lqUUf7pOjUonEUbgAEZbsykdObKRvNtNTlZyj5O8GIEDGF1BEI68k6yvh181xQgcwGhqNqU9e+JH3pGatAsmIYEDGD1R2SSNWe1q3p1I4ABGzz33ZN9z5521q3l3ogYOYLQ0m+l1bbMweR8+PLyYBoQEDmB0ZE1aStKJE7UfeUcooQAYHUtL6ZOWCwsjk7ylHAnczI6a2Vkze7zt2nVm9qCZPdX6/orBhgkAKaJVlkm7C0rSzp0jUTZpl2cE/nlJN3dcu0vSQ+7+JkkPtV4DwPA1m9LevenJ2yzfxGbNZCZwd/+mpOc7Lt8m6Xjr5+OSPlhsWACQQxAkr7KMRJOWI1Q6ifRaA3+Vuz8nSa3vr0y60cwOmNmKma2sra31+HEAEOOOO9Lfn50NJy1HrHQSGXgXirsvS1qWpPn5+ZS/JgGgSxcuJL83Oys9/fTQQilDryPwn5rZaySp9f1scSEBQIr2bWHT1HyVZR69JvD7JO1r/bxP0leLCQcAUkRHoa2upte9pZGseXfK00Z4r6RvSbrBzJ4xs49J+jNJ7zezpyS9v/UaAAZrcTH5KLR2CwuDj6UCMmvg7v7hhLduLDgWAEjWbErnz6ffMzkZjtBHdNKyE0vpAVRf1hL5MZiwjMNSegDVFgTSvn3pNe8xmLCMQwIHUF3RpGXcGZaR6emxmLCMQwIHUF1LS+mTlmbSoUPDi6diSOAAquvMmeT3RniJfF4kcADVlXRm5eTkSC+Rz4sEDqC6Dh6UpqY2X5uako4fH+uRd4QEDqC6Gg1peTlsEzQLvy8vk7xbSOAAyte+v8ncXPg60miEPd7r6+F3kveLWMgDoFxRq2DUbbK6Gr6WSNYZGIEDKFdcq+DFi+F1pCKBAyhPECQfhZbWQghJJHAAZYlKJ0mSWgjxIhI4gHKkrbKcmhrb/U26QQIHUI60EgmtgrmQwAGUI6lEMjtL8s6JBA6gHEmrLCmd5EYCB1AOVln2jYU8AMrTaJCw+8AIHABqigQOADVFAgdQrLSNqVCovhK4mf2RmT1hZo+b2b1m9tKiAgNQQ9HqytXV8BDiaGMqkvhA9JzAzex1kv5A0ry7v1nSpKQPFRUYgBpiY6qh6reEsk3SL5nZNklTkp7tPyQAtZW0upKNqQai5wTu7j+R9BeSzkh6TtLP3P2BzvvM7ICZrZjZytraWu+RAqi+pNWVbEw1EP2UUF4h6TZJb5D0Wkk7zWxP533uvuzu8+4+PzMz03ukAKqP1ZVD1U8J5SZJ/+Hua+5+WdKXJb27mLAA1EJnx4nE6soh6mcl5hlJ7zSzKUn/K+lGSSuFRAWg+pKOQlteDs+uxMD1UwN/WNKXJD0i6but37VcUFwAqo6Ok9L1tReKu39S0icLigVAndBxUjpWYgLIr73mPZGQPug4GRp2IwSQLQikxUXp/PmNa1evbr2PjpOhYgQOIF00WdmevNtNTtJxUhJG4ADSpR0+LEnr6+EXho4ROIB4Ub17dTX9PmrepWEEDmCrzh7vJNS8S8UIHMBWWWUTSZqepuZdMhI4gK3SerlnZ6WTJ6Vz50jeJaOEAmCr3bvja9+zsyyTrxBG4AC2YlfBWiCBA9iq0WBXwRqghAIgXqNBwq44RuDAOOLk+JHACBwYN82mdPfd4anx0sY+3hIj7pphBA6MkyDYnLwj7ONdSyRwYFwEgbRv39bkHWEf79ohgQPjoNmU9u6N3wI2wp4mtUMCB0ZdUtmknRk93jVEAgdG3dJSdvK+804mMGuILhRg1KXVticnpePHSd41xQgcGHVJtW0zknfN9ZXAzexaM/uSmT1pZqfN7F1FBQagIHH7mlA2GQn9jsAPSfoHd/9lSb8u6XT/IQEoVNy+JidOSIcPlx0Z+tRzAjezl0t6r6TPSZK7X3L3/y4oLgB5BYG0a1eYnM3CnzuXxjca4Taw6+vhd0beI6GfEfgbJa1JOmZm/2ZmnzWznZ03mdkBM1sxs5W1tbU+Pg7AFkEgffSjm0+MP39e2r+f/U3GQD8JfJukt0k64u5vlXRB0l2dN7n7srvPu/v8zMxMHx8HYIvFRenKla3XL19mafwY6CeBPyPpGXd/uPX6SwoTOoBhaR95d2Jp/MjrOYG7+39K+rGZ3dC6dKOk7xUSFYD+sTR+5PW7kOf3JQVmtkPSjyTt7z8kALlNTyePwlkaP/L6aiN090db9e23uPsH3f2/igoMQIe4QxgOHZK2b99678ICnSZjgJWYQB0EQXjowupquK9J+yEMx45t7vE+eZIe7zHBXihAlQVB2E2yurr1vegQBvq6xxYJHKiqaNR98WLyPXSajDVKKEBVLS2lJ2+JTpMxRwIHqqR9ojKubNJuaopOkzFHAgeqIjr2LJqoTDM7G25QRe17rFEDB6qg2ZSOHMm+b2qKxI0XMQIHyhadWZkmahEkeaMNI3CgbFlnVs7Ohq2CQAdG4EAZ8k5Wclo8UjACB4at2QxLJlkTlRLHniEVCRwYliAIE/ILL2TfG51ZyZJ4pKCEAgxDsynt2ZOdvDmzEl1gBA4MUjejbiYr0SVG4MCg5B11S0xWoickcGAQ8vR2t2OyEj0ggQODkNXb3W5hgXo3ekINHBiEPNu87twp3XMPI2/0jBE4UITO486uuy79/oWFsDZO8kYfGIED/QgCaXFx88HCq6vhOZU7dkiXLm2+n1E3CsQIHOhVdGJO3Knwly9L11yz9axKRt0oUN8jcDOblLQi6Sfufmv/IQE1kXVizvPPS+fODS8ejJ0iRuCLkk4X8HuA6uvmxByOO8OA9ZXAzex6Sb8t6bPFhANUWDcn5nDcGYag3xH4ZyT9iaT1pBvM7ICZrZjZytraWp8fB5QkWpiTp7d7epqDFzAUPSdwM7tV0ll3P5V2n7svu/u8u8/PzMz0+nFAubIW5rRPVJ47R/LGUPQzifkeSR8ws1skvVTSy83spLvvKSY0oGRBECbuM2c4MQeV1PMI3N0/4e7Xu/ucpA9J+ieSN0ZG1CKYVe9mEyqUiD5wIE5Wi6C0cegC5RKUpJAE7u7foAcctdfNOZUcuoAKYCk9xltU515dDRNzVpcJ9W5UCAkc4yuqc0elEnq7UTPUwDG+8tS5pY2SCb3dqBhG4BhfefbspmSCCmMEjvGVtVcJJRNUHAkco63zoIUg2Hjv4MEwSbczC79TMkENkMAxmoJA2rUrPBU+WoyzuhpOWkZJvNEIk3T7nt0nToT3Pv00yRuVZ5734NUCzM/P+8rKytA+D2Oq2UzfeIq6NmrGzE65+3zndUbgGC15dg3MM3kJ1AAJHKMla9dAiYMWMDJI4Ki3qNZtFn5lnZJDZwlGCH3gqK8gkG6/fevJ70mmp6VDh5icxMgggaO+lpbyJe9o10A2nsKIoYSC+ujs6c4ql7BrIEYcI3DUQ+fGU1m7B9IqiDHACBz1ELfxVFLy3r6diUqMBRI4qivvAQvT05t/PnaMiUqMBUooqKbOkkkSSiUYY4zAUQ2dE5SLi9nJm55ujDlG4ChXEITJ+vz5jWt5ukt27w6TN6USjDESOMqTt0zSjpIJ8CJKKBiezmXve/d2l7wpmQCb9JzAzez1ZvbPZnbazJ4ws8UiA8OIiZa9t5dKsjadmp7evFc3BywAm/RTQrki6Y/d/REzu0bSKTN70N2/V1BsGCV5l71HpqbYtwTI0PMI3N2fc/dHWj//j6TTkl5XVGCouWZT2rYtHD1v25Y9MdlueprRNpBDIZOYZjYn6a2SHo5574CkA5K0m32Yx8NNN0kPPbTx+urV9PsnJ6X1dTpLgC71PYlpZi+T9LeS/tDdf975vrsvu/u8u8/PzMz0+3GosmiSsj15Z9m+XTp+PEzgnEMJdKWvBG5m2xUm78Ddv1xMSKiN9sU3u3ZtnaSMw7J3oDA9l1DMzCR9TtJpd//L4kJCLXT2cGclbikslZw7N9i4gDHSzwj8PZL2SvpNM3u09XVLQXGh6uJ2B8xy4MBgYgHGVM8jcHf/F0lWYCyok25Pdr/xRg5VAArGSkwk69xgKgg23svbUTQ9LZ08KX3964OIEBhrJHDEi2rcq6vhisnV1fB1lMQPHgwX27Tbvj1M2NHKyZMnw5o3k5TAQJDAES+uxn3xYnhdCpPy8vLmpe7HjoUJm5ZAYCjMs/ajKND8/LyvrKwM7fPQh4mJ+L1KzMIEDWBozOyUu893XmcEPo46l7k3m1vvSapxs5oWqAwS+Lho38r1yJGN5e1Xr4avO5N4XI2b7VyBSiGBj4MgkPbvT19ss7y8+XVcjZsNpoBKoQY+Dubm8u0GOMT/FwDkRw18VKX1akfyLLqZnCw6MgADRgKvq6imvWdPcq92JM/EI8vcgdohgddB51mSL3tZ8s5/7b3akYMHw0U2cSYmpIUFlrkDNcSp9FXXeTiCJF24kP5nOksm0cTj4uJG0p+e5sgyoOZI4FXTbIbdHlevhqPtXiYW40omjQbJGhgxJPAqaTbDnuxIL8mbXm1gbFADH5ZmM+z0aK9jd042dvZid4vDgIGxQgIfhKi1L1qqHq1+bN9D5MIF6SMf2ZzEsw7/bTcxwc5/wJgjgRetfRtWKT0pr69v7hjJ24v9kpdIX/gCO/8BY44E3q2shTPdHjXW3jGS1Ys9ORm2/P3iFyRsAExidqXzIN9o4Yy0kVC7PWqsvWMk6sWOulAmJ8PfT482gBiMwCOdi2V27co3uu5cONPNdqsTE1s7Rg4flq5cCTtQrlwheQNINPoJPG5CsbP0EQRbVzaePx/u4Nd+X9Louv163DascXbuDOvYlEIA9KivBG5mN5vZ983sh2Z2V1FBbZI2Ms6qRydNKHbuGbK0JF26tPWzL1/ON7puv96+Dau0MTEZdYq4h18vvEDyBtAfd+/pS9KkpH+X9EZJOyQ9JulX0/7M29/+du/KyZPu27dHKW/ja8cO94UF96mpzdenpsI/E5md3fpn279mZ8P7zJLvMdscT9ZnAkDBJK14TE7tZwT+Dkk/dPcfufslSV+UdFt/f510WFoKR8GdLl0KR7lZ9eisCcXo/bS6ddLomkMOAJSsnwT+Okk/bnv9TOvaJmZ2wMxWzGxlbW2tu09IS8BJ/dXtfyZrQjF6/+BBaceOre9v3751krHRCPuu6b8GULJ+ErjFXNuyeYe7L7v7vLvPz8zMdPcJaQk4adFL+59Jm1Bs3zOk0ZCOHg1XNkamp6Vjx0jQACqrnwT+jKTXt72+XtKz/YXTIWkf6x07wknIrEN30yYUO0sfjUa4sjGqbrMsHUDF9ZPA/1XSm8zsDWa2Q9KHJN1XTFgtjUY4Cu4cGR89GvZH56lHRyWPqK/andIHgJHQ16HGZnaLpM8o7Eg56u6p+5hyqDEAdC/pUOO+ltK7+/2S7u/ndwAAejP6KzEBYESRwAGgpkjgAFBTJHAAqKm+ulC6/jCzNUmrKbfsknRuSOH0i1gHg1gHp07xEutms+6+ZSXkUBN4FjNbiWuVqSJiHQxiHZw6xUus+VBCAYCaIoEDQE1VLYEvlx1AF4h1MIh1cOoUL7HmUKkaOAAgv6qNwAEAOZHAAaCmSk3gZvZpM3vSzL5jZl8xs2sT7hv84ckZzOx3zewJM1s3s8SWITN72sy+a2aPmlkpWy92EWsVnut1ZvagmT3V+v6KhPtKe65Zz8lCf9V6/ztm9rZhxtcRS1as7zOzn7We46Nm9qdlxNmK5aiZnTWzxxPer9JzzYq1nOcad1DmsL4k/Zakba2fPyXpUzH3dH148oBi/RVJN0j6hqT5lPuelrSr5OeaGWuFnuufS7qr9fNdcf8PlPlc8zwnSbdI+prCU6reKenhkv6754n1fZL+voz4YuJ9r6S3SXo84f1KPNecsZbyXEsdgbv7A+5+pfXy2wpP9ek0+MOTc3D30+7+/WF/bi9yxlqJ59r6zOOtn49L+mAJMaTJ85xuk/QFD31b0rVm9pphB6rq/DfNxd2/Ken5lFuq8lzzxFqKKtXAb1f4t22nXIcnV4hLesDMTpnZgbKDSVGV5/oqd39OklrfX5lwX1nPNc9zqsqzzBvHu8zsMTP7mpn92nBC60lVnmteQ3+ufR3okIeZfV3Sq2PeWnL3r7buWZJ0RVIQ9ytirg2k9zFPrDm8x92fNbNXSnrQzJ5s/e1dqAJircRz7eLXDOW5xsjznIb2LDPkieMRhftqvNA6UevvJL1p0IH1qCrPNY9SnuvAE7i735T2vpntk3SrpBu9VUzqMPjDk1uyYs35O55tfT9rZl9R+M/awhNNAbFW4rma2U/N7DXu/lzrn8dnE37HUJ5rjDzPaWjPMkNmHO7+87af7zezw2a2y92ruHFUVZ5rprKea9ldKDdL+rikD7j7xYTbBn94ckHMbKeZXRP9rHCSNnbWugKq8lzvk7Sv9fM+SVv+9VDyc83znO6T9JFW18Q7Jf0sKgsNWWasZvZqM7PWz+9QmAPODz3SfKryXDOV9lzLmtVtDbZ/qLDG9Wjr6+7W9ddKur/tvlsk/UDhDPtSSbH+jsIRwf9J+qmkf+yMVeHs/2OtryeqHGuFnuu0pIckPdX6fl3Vnmvcc5J0p6Q7Wz+bpL9pvf9dpXQpVSDW32s9w8cUNg68u8RY75X0nKTLrf9fP1bh55oVaynPlaX0AFBTVepCAQB0gQQOADVFAgeAmiKBA0BNkcABoKZI4ABQUyRwAKip/wcEwVtOHXfqZwAAAABJRU5ErkJggg==\n",
      "text/plain": [
       "<Figure size 432x288 with 1 Axes>"
      ]
     },
     "metadata": {
      "needs_background": "light"
     },
     "output_type": "display_data"
    }
   ],
   "source": [
    "plt.plot(x,y,'ro')     #Plotting the curve"
   ]
  },
  {
   "cell_type": "code",
   "execution_count": 154,
   "id": "75d7c620",
   "metadata": {},
   "outputs": [
    {
     "data": {
      "text/plain": [
       "(0.29339675285989747, 0.04910168176628448, -0.02962783283357526)"
      ]
     },
     "execution_count": 154,
     "metadata": {},
     "output_type": "execute_result"
    }
   ],
   "source": [
    "#Assigning random values to the parameters. We have 3 parameters here : a,b,c \n",
    "weights=np.random.randn(3)\n",
    "a=weights[0]\n",
    "b=weights[1]\n",
    "c=weights[2]\n",
    "a,b,c"
   ]
  },
  {
   "cell_type": "code",
   "execution_count": 155,
   "id": "88213e39",
   "metadata": {},
   "outputs": [],
   "source": [
    "costs=[]   #list which would store the values of cost function after each iteration\n",
    "m=100    #number of training examples\n",
    "lr=0.000001  #learning rate for gradient descent algorithm\n",
    "epoch=50000 #Number of iterations of our training loop"
   ]
  },
  {
   "cell_type": "code",
   "execution_count": 156,
   "id": "a722b558",
   "metadata": {},
   "outputs": [
    {
     "name": "stdout",
     "output_type": "stream",
     "text": [
      "Cost after 0 iteration :  1893485.6528712215\n",
      "Cost after 1000 iteration :  132.21937673611575\n",
      "Cost after 2000 iteration :  59.280435137700174\n",
      "Cost after 3000 iteration :  36.53623782869226\n",
      "Cost after 4000 iteration :  25.76398689300184\n",
      "Cost after 5000 iteration :  19.585944465022006\n",
      "Cost after 6000 iteration :  15.624100817039544\n",
      "Cost after 7000 iteration :  12.889271366558544\n",
      "Cost after 8000 iteration :  10.899921474166415\n",
      "Cost after 9000 iteration :  9.39495028244353\n",
      "Cost after 10000 iteration :  8.221147847206264\n",
      "Cost after 11000 iteration :  7.283004755522299\n",
      "Cost after 12000 iteration :  6.51805793959089\n",
      "Cost after 13000 iteration :  5.883833851391604\n",
      "Cost after 14000 iteration :  5.350503028757807\n",
      "Cost after 15000 iteration :  4.896537405212077\n",
      "Cost after 16000 iteration :  4.506033868803408\n",
      "Cost after 17000 iteration :  4.167005376124522\n",
      "Cost after 18000 iteration :  3.870256098116779\n",
      "Cost after 19000 iteration :  3.608621097615903\n",
      "Cost after 20000 iteration :  3.376440283653806\n",
      "Cost after 21000 iteration :  3.169186858949665\n",
      "Cost after 22000 iteration :  2.9832000049887846\n",
      "Cost after 23000 iteration :  2.815489350505975\n",
      "Cost after 24000 iteration :  2.6635897921515737\n",
      "Cost after 25000 iteration :  2.525452227646467\n",
      "Cost after 26000 iteration :  2.3993602934759046\n",
      "Cost after 27000 iteration :  2.2838661949078163\n",
      "Cost after 28000 iteration :  2.1777407323346214\n",
      "Cost after 29000 iteration :  2.0799340073842134\n",
      "Cost after 30000 iteration :  1.9895442503926182\n",
      "Cost after 31000 iteration :  1.9057928856902842\n",
      "Cost after 32000 iteration :  1.8280044326466933\n",
      "Cost after 33000 iteration :  1.7555901880894613\n",
      "Cost after 34000 iteration :  1.688034889569005\n",
      "Cost after 35000 iteration :  1.6248857462291415\n",
      "Cost after 36000 iteration :  1.565743363574764\n",
      "Cost after 37000 iteration :  1.5102541933289702\n",
      "Cost after 38000 iteration :  1.4581042191172213\n",
      "Cost after 39000 iteration :  1.4090136495220948\n",
      "Cost after 40000 iteration :  1.3627324368874498\n",
      "Cost after 41000 iteration :  1.3190364765875475\n",
      "Cost after 42000 iteration :  1.2777243698555112\n",
      "Cost after 43000 iteration :  1.2386146555789586\n",
      "Cost after 44000 iteration :  1.2015434341166935\n",
      "Cost after 45000 iteration :  1.1663623202285565\n",
      "Cost after 46000 iteration :  1.1329366734429165\n",
      "Cost after 47000 iteration :  1.1011440632153677\n",
      "Cost after 48000 iteration :  1.0708729335332172\n",
      "Cost after 49000 iteration :  1.0420214375465249\n"
     ]
    }
   ],
   "source": [
    "#Training Loop\n",
    "for i in range(epoch):\n",
    "    y_pred=(a*x*x)+(b*x)+c       #predicted value , here y.shape is (100,)\n",
    "    #print(y_pred.shape)\n",
    "    y_pred=np.reshape(y_pred,(100,1))         #reshaping into (100,1)\n",
    "    \n",
    "    #Our cost function \n",
    "    cost=(1/(2 * m)) * np.sum(abs(np.power((y-y_pred),7)))\n",
    "    \n",
    "    #Printing calculated cost \n",
    "    if i%1000==0:\n",
    "        print(\"Cost after\",i,\"iteration : \",cost)\n",
    "    costs.append(cost)   #Appending value of cost calculated in each iteration\n",
    "    \n",
    "    #Calculating values of gradients with respect to params : a,b,c\n",
    "    da=0;db=0;dc=0     #Initialising the gradients to zero\n",
    "    #Calculating gradients for each iteration with suitable conditions\n",
    "    for i in range(m):\n",
    "        if(y[i]>y_pred[i]):\n",
    "            da=da-(3.5/m)*(((x*x))[i]*((y[i]-y_pred[i])**6))\n",
    "        elif(y[i]==y_pred[i]):\n",
    "            continue\n",
    "        else:\n",
    "            da=da+(3.5/m)*(((x*x)[i])*((y[i]-y_pred[i])**6))\n",
    "    for i in range(m):\n",
    "        if(y[i]>y_pred[i]):\n",
    "            db=db-(3.5/m)*(x[i]*((y[i]-y_pred[i])**6))\n",
    "        elif(y[i]==y_pred[i]):\n",
    "            continue\n",
    "        else:\n",
    "            db=db+(3.5/m)*((x[i])*((y[i]-y_pred[i])**6))\n",
    "    for i in range(m):\n",
    "        if(y[i]>y_pred[i]):\n",
    "            dc=dc-(3.5/m)*np.sum((y[i]-y_pred[i])**6)\n",
    "        elif(y[i]==y_pred[i]):\n",
    "            continue\n",
    "        else:\n",
    "            dc=dc+(3.5/m)*np.sum((y[i]-y_pred[i])**6)\n",
    "            \n",
    "    #Updating the parameters\n",
    "    a=a-(lr*da)\n",
    "    b=b-(lr*db)\n",
    "    c=c-(lr*dc)\n",
    "    "
   ]
  },
  {
   "cell_type": "code",
   "execution_count": 157,
   "id": "d45d66ec",
   "metadata": {},
   "outputs": [
    {
     "data": {
      "text/plain": [
       "(array([1.60432681]), array([3.76253947]), 2.730168342604349)"
      ]
     },
     "execution_count": 157,
     "metadata": {},
     "output_type": "execute_result"
    }
   ],
   "source": [
    "#Predicted values\n",
    "a,b,c"
   ]
  },
  {
   "cell_type": "code",
   "execution_count": 158,
   "id": "e4a7ff6f",
   "metadata": {},
   "outputs": [],
   "source": [
    "#Calculating predicted values using predicted parameters\n",
    "pred=a*x*x+b*x+c"
   ]
  },
  {
   "cell_type": "code",
   "execution_count": 174,
   "id": "10d25a38",
   "metadata": {},
   "outputs": [
    {
     "data": {
      "image/png": "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\n",
      "text/plain": [
       "<Figure size 432x288 with 1 Axes>"
      ]
     },
     "metadata": {
      "needs_background": "light"
     },
     "output_type": "display_data"
    }
   ],
   "source": [
    "#Plotting the true curve along with the predicted one\n",
    "plt.scatter(x,pred,color='b',label=\"predicted curve\")          #predicted curve\n",
    "plt.scatter(x,y,color='r',label=\"original curve\")              #original curve\n",
    "plt.legend(loc=\"upper left\")\n",
    "plt.show()"
   ]
  },
  {
   "cell_type": "code",
   "execution_count": 176,
   "id": "fd4e1c66",
   "metadata": {
    "scrolled": true
   },
   "outputs": [
    {
     "data": {
      "image/png": "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\n",
      "text/plain": [
       "<Figure size 432x288 with 1 Axes>"
      ]
     },
     "metadata": {
      "needs_background": "light"
     },
     "output_type": "display_data"
    }
   ],
   "source": [
    "#Cost Plot\n",
    "plt.plot(costs)\n",
    "plt.xlabel('No. of iterations')\n",
    "plt.ylabel('Cost')\n",
    "plt.show()"
   ]
  },
  {
   "cell_type": "code",
   "execution_count": 175,
   "id": "168cb049",
   "metadata": {},
   "outputs": [
    {
     "data": {
      "image/png": "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\n",
      "text/plain": [
       "<Figure size 432x288 with 1 Axes>"
      ]
     },
     "metadata": {
      "needs_background": "light"
     },
     "output_type": "display_data"
    }
   ],
   "source": [
    "#Cost function plot after 10k epochs\n",
    "plt.plot(costs[10000:])\n",
    "plt.xlabel('No. of iterations')\n",
    "plt.ylabel('Cost')\n",
    "plt.show()"
   ]
  },
  {
   "cell_type": "code",
   "execution_count": null,
   "id": "908a061d",
   "metadata": {},
   "outputs": [],
   "source": []
  },
  {
   "cell_type": "code",
   "execution_count": null,
   "id": "6b81cb38",
   "metadata": {},
   "outputs": [],
   "source": []
  }
 ],
 "metadata": {
  "kernelspec": {
   "display_name": "Python 3",
   "language": "python",
   "name": "python3"
  },
  "language_info": {
   "codemirror_mode": {
    "name": "ipython",
    "version": 3
   },
   "file_extension": ".py",
   "mimetype": "text/x-python",
   "name": "python",
   "nbconvert_exporter": "python",
   "pygments_lexer": "ipython3",
   "version": "3.8.8"
  }
 },
 "nbformat": 4,
 "nbformat_minor": 5
}
