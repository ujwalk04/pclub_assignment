{
 "cells": [
  {
   "cell_type": "code",
   "execution_count": 1,
   "id": "d1642520",
   "metadata": {},
   "outputs": [],
   "source": [
    "#Importing Libraries\n",
    "import pandas as pd\n",
    "import matplotlib.pyplot as plt\n",
    "import numpy as np"
   ]
  },
  {
   "cell_type": "code",
   "execution_count": 2,
   "id": "2c2d6072",
   "metadata": {},
   "outputs": [],
   "source": [
    "x=np.random.rand(100,1);   #generating a numpy array of random values"
   ]
  },
  {
   "cell_type": "code",
   "execution_count": 3,
   "id": "1bf29463",
   "metadata": {},
   "outputs": [],
   "source": [
    "x=(x-np.mean(x))/np.std(x);      #Normalising the data"
   ]
  },
  {
   "cell_type": "code",
   "execution_count": 4,
   "id": "0578a3f1",
   "metadata": {},
   "outputs": [],
   "source": [
    "y=2*x+11+np.random.randint(low=0,high=20)    #linear function with some random noise"
   ]
  },
  {
   "cell_type": "code",
   "execution_count": 5,
   "id": "be2ac689",
   "metadata": {},
   "outputs": [
    {
     "data": {
      "text/plain": [
       "[<matplotlib.lines.Line2D at 0x1c1f548b1c0>]"
      ]
     },
     "execution_count": 5,
     "metadata": {},
     "output_type": "execute_result"
    },
    {
     "data": {
      "image/png": "[encoded data removed]",
      "text/plain": [
       "<Figure size 432x288 with 1 Axes>"
      ]
     },
     "metadata": {
      "needs_background": "light"
     },
     "output_type": "display_data"
    }
   ],
   "source": [
    "plt.plot(x,y,'ro')     #Plotting the curve"
   ]
  },
  {
   "cell_type": "code",
   "execution_count": 14,
   "id": "890a935b",
   "metadata": {},
   "outputs": [],
   "source": [
    "#Assigning random values to the parameters. We have 3 parameters here : a,b\n",
    "weights=np.random.randn(2)\n",
    "a=weights[0]\n",
    "b=weights[1]"
   ]
  },
  {
   "cell_type": "code",
   "execution_count": 15,
   "id": "6485ce3b",
   "metadata": {},
   "outputs": [],
   "source": [
    "costs=[]   #list which would store the values of cost function after each iteration\n",
    "m=100    #number of training examples\n",
    "lr=0.0001  #learning rate for gradient descent algorithm\n",
    "epoch=50000 #Number of iterations of our training loop"
   ]
  },
  {
   "cell_type": "code",
   "execution_count": 16,
   "id": "176bae1c",
   "metadata": {},
   "outputs": [
    {
     "name": "stdout",
     "output_type": "stream",
     "text": [
      "Cost after 0 iteration :  3159.233321923463\n",
      "Cost after 1000 iteration :  58.193111543554004\n",
      "Cost after 2000 iteration :  11.177698189427057\n",
      "Cost after 3000 iteration :  3.8807961785778033\n",
      "Cost after 4000 iteration :  1.7782696495469004\n",
      "Cost after 5000 iteration :  0.9578814797184749\n",
      "Cost after 6000 iteration :  0.5737018299379458\n",
      "Cost after 7000 iteration :  0.3703515673446105\n",
      "Cost after 8000 iteration :  0.25280036651291793\n",
      "Cost after 9000 iteration :  0.18017267919561925\n",
      "Cost after 10000 iteration :  0.13290337434192195\n",
      "Cost after 11000 iteration :  0.10082381412716476\n",
      "Cost after 12000 iteration :  0.07829124888844687\n",
      "Cost after 13000 iteration :  0.06200262046920874\n",
      "Cost after 14000 iteration :  0.04993661109492362\n",
      "Cost after 15000 iteration :  0.04080894087818924\n",
      "Cost after 16000 iteration :  0.03377694602189482\n",
      "Cost after 17000 iteration :  0.028272095945539005\n",
      "Cost after 18000 iteration :  0.02390134246313567\n",
      "Cost after 19000 iteration :  0.02038704289133859\n",
      "Cost after 20000 iteration :  0.017529285055914025\n",
      "Cost after 21000 iteration :  0.015181638013934007\n",
      "Cost after 22000 iteration :  0.013235177145854838\n",
      "Cost after 23000 iteration :  0.011607738056682517\n",
      "Cost after 24000 iteration :  0.010236550030393485\n",
      "Cost after 25000 iteration :  0.009073098834201801\n",
      "Cost after 26000 iteration :  0.008079487689009065\n",
      "Cost after 27000 iteration :  0.007225822262475731\n",
      "Cost after 28000 iteration :  0.00648830657857969\n",
      "Cost after 29000 iteration :  0.005847839597519134\n",
      "Cost after 30000 iteration :  0.005288969097744948\n",
      "Cost after 31000 iteration :  0.0047991036938359625\n",
      "Cost after 32000 iteration :  0.004367913485837098\n",
      "Cost after 33000 iteration :  0.003986870022566823\n",
      "Cost after 34000 iteration :  0.003648890181902605\n",
      "Cost after 35000 iteration :  0.0033480582885180104\n",
      "Cost after 36000 iteration :  0.0030794076511672865\n",
      "Cost after 37000 iteration :  0.002838747599303135\n",
      "Cost after 38000 iteration :  0.0026225256298861668\n",
      "Cost after 39000 iteration :  0.002427716845599404\n",
      "Cost after 40000 iteration :  0.002251734753423737\n",
      "Cost after 41000 iteration :  0.0020923588908501474\n",
      "Cost after 42000 iteration :  0.0019476757909705567\n",
      "Cost after 43000 iteration :  0.0018160305832177542\n",
      "Cost after 44000 iteration :  0.0016959871217993618\n",
      "Cost after 45000 iteration :  0.0015862949879875356\n",
      "Cost after 46000 iteration :  0.0014858620613451199\n",
      "Cost after 47000 iteration :  0.001393731624416671\n",
      "Cost after 48000 iteration :  0.0013090631750867462\n",
      "Cost after 49000 iteration :  0.0012311162845435619\n"
     ]
    }
   ],
   "source": [
    "for i in range(epoch):\n",
    "    y_pred=(a*x)+b\n",
    "    #print(y_pred.shape)\n",
    "    y_pred=np.reshape(y_pred,(m,1))           #predicted value , here y.shape is (100,)\n",
    "   \n",
    "    #Cost function\n",
    "    \n",
    "    cost=(1/(2 * m)) * np.sum(abs(np.power((y-y_pred),3)))  \n",
    "    \n",
    "    #Printing calculated cost \n",
    "    if i%1000==0:\n",
    "        print(\"Cost after\",i,\"iteration : \",cost)\n",
    "    costs.append(cost)       #Appending value of cost calculated after each iteration\n",
    "    \n",
    "    da=0;db=0                #Initialising the gradients\n",
    "    #calculating the gradients after each iteration\n",
    "    for i in range(m):\n",
    "        if(y[i]>y_pred[i]):\n",
    "            da=da-(1.5/m)*(x[i]*((y[i]-y_pred[i])**2))\n",
    "        elif(y[i]==y_pred[i]):\n",
    "            continue\n",
    "        else:\n",
    "            da=da+(1.5/m)*((x[i])*((y[i]-y_pred[i])**2))\n",
    "    for i in range(m):\n",
    "        if(y[i]>y_pred[i]):\n",
    "            db=db-(1.5/m)*np.sum((y[i]-y_pred[i])**2)\n",
    "        elif(y[i]==y_pred[i]):\n",
    "            continue\n",
    "        else:\n",
    "            db=db+(1.5/m)*np.sum((y[i]-y_pred[i])**2)\n",
    "            \n",
    "    #Updating parameters\n",
    "    a=a-(lr*da)\n",
    "    b=b-(lr*db)\n"
   ]
  },
  {
   "cell_type": "code",
   "execution_count": 17,
   "id": "d9ee935d",
   "metadata": {},
   "outputs": [],
   "source": [
    "#Predicted values of input array x\n",
    "pred=a*x+b"
   ]
  },
  {
   "cell_type": "code",
   "execution_count": 34,
   "id": "3a9b524a",
   "metadata": {},
   "outputs": [
    {
     "data": {
      "image/png": "[encoded data removed]",
      "text/plain": [
       "<Figure size 432x288 with 1 Axes>"
      ]
     },
     "metadata": {
      "needs_background": "light"
     },
     "output_type": "display_data"
    }
   ],
   "source": [
    "#Plotting the true curve along with the predicted one\n",
    "plt.plot(x,y,marker='o',color='cyan',label=\"original curve\")       #Plot depicting true values\n",
    "plt.plot(x,pred,color='red',label=\"predicted curve\")    #Plot depicting predicted values\n",
    "plt.legend(loc=\"upper left\")\n",
    "plt.show()"
   ]
  },
  {
   "cell_type": "code",
   "execution_count": 35,
   "id": "209845f4",
   "metadata": {},
   "outputs": [
    {
     "data": {
      "image/png": "[encoded data removed]",
      "text/plain": [
       "<Figure size 432x288 with 1 Axes>"
      ]
     },
     "metadata": {
      "needs_background": "light"
     },
     "output_type": "display_data"
    }
   ],
   "source": [
    "# Cost plot\n",
    "plt.plot(costs)\n",
    "plt.xlabel('No. of iterations')\n",
    "plt.ylabel('Cost')\n",
    "plt.show()"
   ]
  },
  {
   "cell_type": "code",
   "execution_count": 36,
   "id": "ec5ee91e",
   "metadata": {},
   "outputs": [
    {
     "data": {
      "image/png": "[encoded data removed]",
      "text/plain": [
       "<Figure size 432x288 with 1 Axes>"
      ]
     },
     "metadata": {
      "needs_background": "light"
     },
     "output_type": "display_data"
    }
   ],
   "source": [
    "#Cost function plot after 10k epochs\n",
    "plt.plot(costs[10000:])\n",
    "plt.xlabel('No. of iterations')\n",
    "plt.ylabel('Cost')\n",
    "plt.show()"
   ]
  },
  {
   "cell_type": "code",
   "execution_count": null,
   "id": "6d265650",
   "metadata": {},
   "outputs": [],
   "source": []
  }
 ],
 "metadata": {
  "kernelspec": {
   "display_name": "Python 3",
   "language": "python",
   "name": "python3"
  },
  "language_info": {
   "codemirror_mode": {
    "name": "ipython",
    "version": 3
   },
   "file_extension": ".py",
   "mimetype": "text/x-python",
   "name": "python",
   "nbconvert_exporter": "python",
   "pygments_lexer": "ipython3",
   "version": "3.8.8"
  }
 },
 "nbformat": 4,
 "nbformat_minor": 5
}
