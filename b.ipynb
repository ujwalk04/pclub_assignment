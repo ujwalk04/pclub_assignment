{
 "cells": [
  {
   "cell_type": "code",
   "execution_count": 1,
   "id": "2735ef39",
   "metadata": {},
   "outputs": [],
   "source": [
    "import pandas as pd\n",
    "import matplotlib.pyplot as plt\n",
    "import numpy as np"
   ]
  },
  {
   "cell_type": "code",
   "execution_count": 2,
   "id": "02ce6c6b",
   "metadata": {},
   "outputs": [],
   "source": [
    "x=np.random.rand(100,1);   #generating a numpy array of random values"
   ]
  },
  {
   "cell_type": "code",
   "execution_count": 3,
   "id": "214a2cff",
   "metadata": {},
   "outputs": [],
   "source": [
    "x=(x-np.mean(x))/np.std(x);      #Normalising the data"
   ]
  },
  {
   "cell_type": "code",
   "execution_count": 23,
   "id": "8885c770",
   "metadata": {},
   "outputs": [],
   "source": [
    "y=2*x+11+np.random.randint(low=0,high=20)    #linear function with some random noise"
   ]
  },
  {
   "cell_type": "code",
   "execution_count": 24,
   "id": "4db1c8f6",
   "metadata": {},
   "outputs": [
    {
     "data": {
      "text/plain": [
       "[<matplotlib.lines.Line2D at 0x16da52216d0>]"
      ]
     },
     "execution_count": 24,
     "metadata": {},
     "output_type": "execute_result"
    },
    {
     "data": {
      "image/png": "[encoded data removed]",
      "text/plain": [
       "<Figure size 432x288 with 1 Axes>"
      ]
     },
     "metadata": {
      "needs_background": "light"
     },
     "output_type": "display_data"
    }
   ],
   "source": [
    "plt.plot(x,y,'ro')     #Plotting the curve"
   ]
  },
  {
   "cell_type": "code",
   "execution_count": 38,
   "id": "04a8c89c",
   "metadata": {},
   "outputs": [],
   "source": [
    "#Assigning random values to the parameters. We have 3 parameters here : a,b\n",
    "weights=np.random.randn(2)\n",
    "a=weights[0]\n",
    "b=weights[1]"
   ]
  },
  {
   "cell_type": "code",
   "execution_count": 39,
   "id": "5c49e737",
   "metadata": {},
   "outputs": [],
   "source": [
    "costs=[]   #list which would store the values of cost function after each iteration\n",
    "m=100    #number of training examples\n",
    "lr=0.0001  #learning rate for gradient descent algorithm\n",
    "epoch=50000 #Number of iterations of our training loop"
   ]
  },
  {
   "cell_type": "code",
   "execution_count": 40,
   "id": "6e827024",
   "metadata": {},
   "outputs": [
    {
     "name": "stdout",
     "output_type": "stream",
     "text": [
      "Cost after 0 iteration :  5.75915858939728\n",
      "Cost after 1000 iteration :  3.259158589397319\n",
      "Cost after 2000 iteration :  1.1440379986395666\n",
      "Cost after 3000 iteration :  0.8520084764212773\n",
      "Cost after 4000 iteration :  0.825544706382245\n",
      "Cost after 5000 iteration :  0.8068152246075869\n",
      "Cost after 6000 iteration :  0.7880857863473455\n",
      "Cost after 7000 iteration :  0.769356304572687\n",
      "Cost after 8000 iteration :  0.7506268663124456\n",
      "Cost after 9000 iteration :  0.7318973845377876\n",
      "Cost after 10000 iteration :  0.7131679462775463\n",
      "Cost after 11000 iteration :  0.6944384645028879\n",
      "Cost after 12000 iteration :  0.6757090262426467\n",
      "Cost after 13000 iteration :  0.6569795444679885\n",
      "Cost after 14000 iteration :  0.6382501062077606\n",
      "Cost after 15000 iteration :  0.6195206244331251\n",
      "Cost after 16000 iteration :  0.6007911861729068\n",
      "Cost after 17000 iteration :  0.5820617043982714\n",
      "Cost after 18000 iteration :  0.5633322661380532\n",
      "Cost after 19000 iteration :  0.5446028007264809\n",
      "Cost after 20000 iteration :  0.5258733461031995\n",
      "Cost after 21000 iteration :  0.5071439007312841\n",
      "Cost after 22000 iteration :  0.4884144260683457\n",
      "Cost after 23000 iteration :  0.4696849878081275\n",
      "Cost after 24000 iteration :  0.45095550603349216\n",
      "Cost after 25000 iteration :  0.43222606777327244\n",
      "Cost after 26000 iteration :  0.4134965859985889\n",
      "Cost after 27000 iteration :  0.3947671477383225\n",
      "Cost after 28000 iteration :  0.37603766596363913\n",
      "Cost after 29000 iteration :  0.3573082277033728\n",
      "Cost after 30000 iteration :  0.3385787459286895\n",
      "Cost after 31000 iteration :  0.319849307668423\n",
      "Cost after 32000 iteration :  0.3011198258937396\n",
      "Cost after 33000 iteration :  0.28239038763347324\n",
      "Cost after 34000 iteration :  0.26366090585878976\n",
      "Cost after 35000 iteration :  0.24493146759852352\n",
      "Cost after 36000 iteration :  0.22620198582384007\n",
      "Cost after 37000 iteration :  0.20747254756357372\n",
      "Cost after 38000 iteration :  0.1887430657888903\n",
      "Cost after 39000 iteration :  0.17001362752862395\n",
      "Cost after 40000 iteration :  0.1512841457539405\n",
      "Cost after 41000 iteration :  0.13255470749367418\n",
      "Cost after 42000 iteration :  0.11382522571899072\n",
      "Cost after 43000 iteration :  0.09509578745872439\n",
      "Cost after 44000 iteration :  0.07636630568404092\n",
      "Cost after 45000 iteration :  0.05763686742377458\n",
      "Cost after 46000 iteration :  0.0389073856490912\n",
      "Cost after 47000 iteration :  0.020177947388824863\n",
      "Cost after 48000 iteration :  0.0014484656141413766\n",
      "Cost after 49000 iteration :  0.0012414106023968063\n"
     ]
    }
   ],
   "source": [
    "for i in range(epoch):\n",
    "    y_pred=(a*x)+b\n",
    "    #print(y_pred.shape)\n",
    "    y_pred=np.reshape(y_pred,(m,1))    #predicted value , here y.shape is (100,)\n",
    "    \n",
    "    #Cost function\n",
    "    cost=(1/(2 * m)) * np.sum(abs(y-y_pred))\n",
    "    \n",
    "    #Printing calculated cost \n",
    "    if i%1000==0:\n",
    "        print(\"Cost after\",i,\"iteration : \",cost)\n",
    "        \n",
    "    costs.append(cost)                 #Appending value of cost calculated after each iteration\n",
    "    \n",
    "    da=0;db=0                          #Initialising the gradients\n",
    "    #calculating the gradients after each iteration\n",
    "    for i in range(m):\n",
    "        if(y[i]>y_pred[i]):\n",
    "            da=da-(0.5/m)*np.sum(x[i])\n",
    "        elif(y[i]==y_pred[i]):\n",
    "            continue\n",
    "        else:\n",
    "            da=da+(0.5/m)*np.sum(x[i])\n",
    "    for i in range(m):\n",
    "        if(y[i]>y_pred[i]):\n",
    "            db=db-(0.5/m)*m\n",
    "        elif(y[i]==y_pred[i]):\n",
    "            continue\n",
    "        else:\n",
    "            db=db+(0.5/m)*m\n",
    "            \n",
    "    #Updating parameters\n",
    "    a=a-(lr*da)\n",
    "    b=b-(lr*db)"
   ]
  },
  {
   "cell_type": "markdown",
   "id": "5fa2e8a9",
   "metadata": {},
   "source": [
    "Our gradient descent algorithm has successfully been able to achieve the minima . This is why the cost function remains constant after 12000 iterations . After reaching minima , there is no need to update the parameters , bcz we have reached our destination ."
   ]
  },
  {
   "cell_type": "code",
   "execution_count": 41,
   "id": "a2fabd5b",
   "metadata": {},
   "outputs": [
    {
     "data": {
      "text/plain": [
       "(1.9990879894397653, 11.002482821204794)"
      ]
     },
     "execution_count": 41,
     "metadata": {},
     "output_type": "execute_result"
    }
   ],
   "source": [
    "a,b              "
   ]
  },
  {
   "cell_type": "code",
   "execution_count": 42,
   "id": "68a76a9c",
   "metadata": {},
   "outputs": [],
   "source": [
    "#Predicted values of input array x\n",
    "pred=a*x+b"
   ]
  },
  {
   "cell_type": "code",
   "execution_count": 43,
   "id": "5efd0486",
   "metadata": {},
   "outputs": [
    {
     "data": {
      "image/png": "[encoded data removed]",
      "text/plain": [
       "<Figure size 432x288 with 1 Axes>"
      ]
     },
     "metadata": {
      "needs_background": "light"
     },
     "output_type": "display_data"
    }
   ],
   "source": [
    "#Plotting the true curve along with the predicted one\n",
    "plt.plot(x,y,marker='o',color='cyan',label=\"original curve\")       #Plot depicting true values\n",
    "plt.plot(x,pred,color='red',label=\"predicted curve\")    #Plot depicting predicted values\n",
    "plt.legend(loc=\"upper left\")\n",
    "plt.show()"
   ]
  },
  {
   "cell_type": "code",
   "execution_count": 44,
   "id": "d73cb484",
   "metadata": {},
   "outputs": [
    {
     "data": {
      "image/png": "[encoded data removed]",
      "text/plain": [
       "<Figure size 432x288 with 1 Axes>"
      ]
     },
     "metadata": {
      "needs_background": "light"
     },
     "output_type": "display_data"
    }
   ],
   "source": [
    "# Cost plot\n",
    "plt.plot(costs)\n",
    "plt.xlabel('No. of iterations')\n",
    "plt.ylabel('Cost')\n",
    "plt.show()"
   ]
  },
  {
   "cell_type": "code",
   "execution_count": 47,
   "id": "f6772d2a",
   "metadata": {},
   "outputs": [
    {
     "data": {
      "image/png": "[encoded data removed]",
      "text/plain": [
       "<Figure size 432x288 with 1 Axes>"
      ]
     },
     "metadata": {
      "needs_background": "light"
     },
     "output_type": "display_data"
    }
   ],
   "source": [
    "#Cost function plot after 10k epochs\n",
    "plt.plot(costs[10000:])\n",
    "plt.xlabel('No. of iterations')\n",
    "plt.ylabel('Cost')\n",
    "plt.show()"
   ]
  },
  {
   "cell_type": "code",
   "execution_count": null,
   "id": "62dfbcf3",
   "metadata": {},
   "outputs": [],
   "source": []
  }
 ],
 "metadata": {
  "kernelspec": {
   "display_name": "Python 3",
   "language": "python",
   "name": "python3"
  },
  "language_info": {
   "codemirror_mode": {
    "name": "ipython",
    "version": 3
   },
   "file_extension": ".py",
   "mimetype": "text/x-python",
   "name": "python",
   "nbconvert_exporter": "python",
   "pygments_lexer": "ipython3",
   "version": "3.8.8"
  }
 },
 "nbformat": 4,
 "nbformat_minor": 5
}
