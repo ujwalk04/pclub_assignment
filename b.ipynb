{
 "cells": [
  {
   "cell_type": "code",
   "execution_count": 1,
   "id": "2735ef39",
   "metadata": {},
   "outputs": [],
   "source": [
    "import pandas as pd\n",
    "import matplotlib.pyplot as plt\n",
    "import numpy as np"
   ]
  },
  {
   "cell_type": "code",
   "execution_count": 2,
   "id": "02ce6c6b",
   "metadata": {},
   "outputs": [],
   "source": [
    "x=np.random.rand(100,1);   #generating a numpy array of random values"
   ]
  },
  {
   "cell_type": "code",
   "execution_count": 3,
   "id": "214a2cff",
   "metadata": {},
   "outputs": [],
   "source": [
    "x=(x-np.mean(x))/np.std(x);      #Normalising the data"
   ]
  },
  {
   "cell_type": "code",
   "execution_count": 23,
   "id": "8885c770",
   "metadata": {},
   "outputs": [],
   "source": [
    "y=2*x+11+np.random.randint(low=0,high=20)    #linear function with some random noise"
   ]
  },
  {
   "cell_type": "code",
   "execution_count": 24,
   "id": "4db1c8f6",
   "metadata": {},
   "outputs": [
    {
     "data": {
      "text/plain": [
       "[<matplotlib.lines.Line2D at 0x16da52216d0>]"
      ]
     },
     "execution_count": 24,
     "metadata": {},
     "output_type": "execute_result"
    },
    {
     "data": {
      "image/png": "[encoded data removed]",
      "text/plain": [
       "<Figure size 432x288 with 1 Axes>"
      ]
     },
     "metadata": {
      "needs_background": "light"
     },
     "output_type": "display_data"
    }
   ],
   "source": [
    "plt.plot(x,y,'ro')     #Plotting the curve"
   ]
  },
  {
   "cell_type": "code",
   "execution_count": 25,
   "id": "04a8c89c",
   "metadata": {},
   "outputs": [],
   "source": [
    "#Assigning random values to the parameters. We have 3 parameters here : a,b\n",
    "weights=np.random.randn(2)\n",
    "a=weights[0]\n",
    "b=weights[1]"
   ]
  },
  {
   "cell_type": "code",
   "execution_count": 26,
   "id": "5c49e737",
   "metadata": {},
   "outputs": [],
   "source": [
    "costs=[]   #list which would store the values of cost function after each iteration\n",
    "m=100    #number of training examples\n",
    "lr=0.0001  #learning rate for gradient descent algorithm\n",
    "epoch=50000 #Number of iterations of our training loop"
   ]
  },
  {
   "cell_type": "code",
   "execution_count": 27,
   "id": "6e827024",
   "metadata": {},
   "outputs": [
    {
     "name": "stdout",
     "output_type": "stream",
     "text": [
      "Cost after 0 iteration :  5.375692212280841\n",
      "Cost after 1000 iteration :  0.6413567208455199\n",
      "Cost after 2000 iteration :  0.5846997036256314\n",
      "Cost after 3000 iteration :  0.5285112583016792\n",
      "Cost after 4000 iteration :  0.47232294352097837\n",
      "Cost after 5000 iteration :  0.4161344981970255\n",
      "Cost after 6000 iteration :  0.3599461834163226\n",
      "Cost after 7000 iteration :  0.3037577380923685\n",
      "Cost after 8000 iteration :  0.24756942331166548\n",
      "Cost after 9000 iteration :  0.19138097798771142\n",
      "Cost after 10000 iteration :  0.13519266320700843\n",
      "Cost after 11000 iteration :  0.07900421788305421\n",
      "Cost after 12000 iteration :  0.022815903102351362\n",
      "Cost after 13000 iteration :  0.0029922122810805488\n",
      "Cost after 14000 iteration :  0.0029922122810805488\n",
      "Cost after 15000 iteration :  0.0029922122810805488\n",
      "Cost after 16000 iteration :  0.0029922122810805488\n",
      "Cost after 17000 iteration :  0.0029922122810805488\n",
      "Cost after 18000 iteration :  0.0029922122810805488\n",
      "Cost after 19000 iteration :  0.0029922122810805488\n",
      "Cost after 20000 iteration :  0.0029922122810805488\n",
      "Cost after 21000 iteration :  0.0029922122810805488\n",
      "Cost after 22000 iteration :  0.0029922122810805488\n",
      "Cost after 23000 iteration :  0.0029922122810805488\n",
      "Cost after 24000 iteration :  0.0029922122810805488\n",
      "Cost after 25000 iteration :  0.0029922122810805488\n",
      "Cost after 26000 iteration :  0.0029922122810805488\n",
      "Cost after 27000 iteration :  0.0029922122810805488\n",
      "Cost after 28000 iteration :  0.0029922122810805488\n",
      "Cost after 29000 iteration :  0.0029922122810805488\n",
      "Cost after 30000 iteration :  0.0029922122810805488\n",
      "Cost after 31000 iteration :  0.0029922122810805488\n",
      "Cost after 32000 iteration :  0.0029922122810805488\n",
      "Cost after 33000 iteration :  0.0029922122810805488\n",
      "Cost after 34000 iteration :  0.0029922122810805488\n",
      "Cost after 35000 iteration :  0.0029922122810805488\n",
      "Cost after 36000 iteration :  0.0029922122810805488\n",
      "Cost after 37000 iteration :  0.0029922122810805488\n",
      "Cost after 38000 iteration :  0.0029922122810805488\n",
      "Cost after 39000 iteration :  0.0029922122810805488\n",
      "Cost after 40000 iteration :  0.0029922122810805488\n",
      "Cost after 41000 iteration :  0.0029922122810805488\n",
      "Cost after 42000 iteration :  0.0029922122810805488\n",
      "Cost after 43000 iteration :  0.0029922122810805488\n",
      "Cost after 44000 iteration :  0.0029922122810805488\n",
      "Cost after 45000 iteration :  0.0029922122810805488\n",
      "Cost after 46000 iteration :  0.0029922122810805488\n",
      "Cost after 47000 iteration :  0.0029922122810805488\n",
      "Cost after 48000 iteration :  0.0029922122810805488\n",
      "Cost after 49000 iteration :  0.0029922122810805488\n"
     ]
    }
   ],
   "source": [
    "for i in range(epoch):\n",
    "    y_pred=(a*x)+b\n",
    "    #print(y_pred.shape)\n",
    "    y_pred=np.reshape(y_pred,(m,1))    #predicted value , here y.shape is (100,)\n",
    "    \n",
    "    #Cost function\n",
    "    cost=(1/(2 * m)) * np.sum(abs(y-y_pred))\n",
    "    \n",
    "    #Printing calculated cost \n",
    "    if i%1000==0:\n",
    "        print(\"Cost after\",i,\"iteration : \",cost)\n",
    "        \n",
    "    costs.append(cost)                 #Appending value of cost calculated after each iteration\n",
    "    \n",
    "    da=0;db=0                          #Initialising the gradients\n",
    "    #calculating the gradients after each iteration\n",
    "    for i in range(m):\n",
    "        if(y[i]>y_pred[i]):\n",
    "            da=da-(1.5/m)*np.sum(x[i])\n",
    "        elif(y[i]==y_pred[i]):\n",
    "            continue\n",
    "        else:\n",
    "            da=da+(1.5/m)*np.sum(x[i])\n",
    "    for i in range(m):\n",
    "        if(y[i]>y_pred[i]):\n",
    "            db=db-(1.5/m)*m\n",
    "        elif(y[i]==y_pred[i]):\n",
    "            continue\n",
    "        else:\n",
    "            db=db+(1.5/m)*m\n",
    "            \n",
    "    #Updating parameters\n",
    "    a=a-(lr*da)\n",
    "    b=b-(lr*db)"
   ]
  },
  {
   "cell_type": "markdown",
   "id": "5fa2e8a9",
   "metadata": {},
   "source": [
    "Our gradient descent algorithm has successfully been able to achieve the minima . This is why the cost function remains constant after 12000 iterations . After reaching minima , there is no need to update the parameters , bcz we have reached our destination ."
   ]
  },
  {
   "cell_type": "code",
   "execution_count": 28,
   "id": "a2fabd5b",
   "metadata": {},
   "outputs": [
    {
     "data": {
      "text/plain": [
       "(1.9967258348659709, 10.994015575437839)"
      ]
     },
     "execution_count": 28,
     "metadata": {},
     "output_type": "execute_result"
    }
   ],
   "source": [
    "a,b              "
   ]
  },
  {
   "cell_type": "code",
   "execution_count": 29,
   "id": "68a76a9c",
   "metadata": {},
   "outputs": [],
   "source": [
    "#Predicted values of input array x\n",
    "pred=a*x+b"
   ]
  },
  {
   "cell_type": "code",
   "execution_count": 30,
   "id": "5efd0486",
   "metadata": {},
   "outputs": [
    {
     "data": {
      "image/png": "[encoded data removed]",
      "text/plain": [
       "<Figure size 432x288 with 1 Axes>"
      ]
     },
     "metadata": {
      "needs_background": "light"
     },
     "output_type": "display_data"
    }
   ],
   "source": [
    "#Plotting the true curve along with the predicted one\n",
    "plt.plot(x,y,marker='o',color='cyan',label=\"original curve\")       #Plot depicting true values\n",
    "plt.plot(x,pred,color='red',label=\"predicted curve\")    #Plot depicting predicted values\n",
    "plt.legend(loc=\"upper left\")\n",
    "plt.show()"
   ]
  },
  {
   "cell_type": "code",
   "execution_count": 34,
   "id": "d73cb484",
   "metadata": {},
   "outputs": [
    {
     "data": {
      "image/png": "[encoded data removed]",
      "text/plain": [
       "<Figure size 432x288 with 1 Axes>"
      ]
     },
     "metadata": {
      "needs_background": "light"
     },
     "output_type": "display_data"
    }
   ],
   "source": [
    "# Cost plot\n",
    "plt.plot(costs)\n",
    "plt.xlabel('No. of iterations')\n",
    "plt.ylabel('Cost')\n",
    "plt.show()"
   ]
  },
  {
   "cell_type": "code",
   "execution_count": 37,
   "id": "f6772d2a",
   "metadata": {},
   "outputs": [
    {
     "data": {
      "image/png": "[encoded data removed]",
      "text/plain": [
       "<Figure size 432x288 with 1 Axes>"
      ]
     },
     "metadata": {
      "needs_background": "light"
     },
     "output_type": "display_data"
    }
   ],
   "source": [
    "#Cost function plot after 10k epochs\n",
    "plt.plot(costs[:13000])\n",
    "plt.xlabel('No. of iterations')\n",
    "plt.ylabel('Cost')\n",
    "plt.show()"
   ]
  },
  {
   "cell_type": "code",
   "execution_count": null,
   "id": "62dfbcf3",
   "metadata": {},
   "outputs": [],
   "source": []
  }
 ],
 "metadata": {
  "kernelspec": {
   "display_name": "Python 3",
   "language": "python",
   "name": "python3"
  },
  "language_info": {
   "codemirror_mode": {
    "name": "ipython",
    "version": 3
   },
   "file_extension": ".py",
   "mimetype": "text/x-python",
   "name": "python",
   "nbconvert_exporter": "python",
   "pygments_lexer": "ipython3",
   "version": "3.8.8"
  }
 },
 "nbformat": 4,
 "nbformat_minor": 5
}
