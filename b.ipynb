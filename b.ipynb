{
 "cells": [
  {
   "cell_type": "code",
   "execution_count": 1,
   "id": "85b014a8",
   "metadata": {},
   "outputs": [],
   "source": [
    "import pandas as pd\n",
    "import matplotlib.pyplot as plt\n",
    "import numpy as np"
   ]
  },
  {
   "cell_type": "code",
   "execution_count": 2,
   "id": "ef0d3995",
   "metadata": {},
   "outputs": [],
   "source": [
    "x=np.random.rand(100,1);   #generating a numpy array of random values"
   ]
  },
  {
   "cell_type": "code",
   "execution_count": 3,
   "id": "d2c63643",
   "metadata": {},
   "outputs": [],
   "source": [
    "x=(x-np.mean(x))/np.std(x);      #Normalising the data"
   ]
  },
  {
   "cell_type": "code",
   "execution_count": 4,
   "id": "e422cd30",
   "metadata": {},
   "outputs": [],
   "source": [
    "y=2*x+11+np.random.randint(low=0,high=20)    #linear function with some random noise"
   ]
  },
  {
   "cell_type": "code",
   "execution_count": 5,
   "id": "7317c41b",
   "metadata": {},
   "outputs": [
    {
     "data": {
      "text/plain": [
       "[<matplotlib.lines.Line2D at 0x1c5aabbb1f0>]"
      ]
     },
     "execution_count": 5,
     "metadata": {},
     "output_type": "execute_result"
    },
    {
     "data": {
      "image/png": "[encoded data removed]",
      "text/plain": [
       "<Figure size 432x288 with 1 Axes>"
      ]
     },
     "metadata": {
      "needs_background": "light"
     },
     "output_type": "display_data"
    }
   ],
   "source": [
    "plt.plot(x,y,'ro')     #Plotting the curve"
   ]
  },
  {
   "cell_type": "code",
   "execution_count": 6,
   "id": "cd196c76",
   "metadata": {},
   "outputs": [],
   "source": [
    "#Assigning random values to the parameters. We have 3 parameters here : a,b\n",
    "weights=np.random.randn(2)\n",
    "a=weights[0]\n",
    "b=weights[1]"
   ]
  },
  {
   "cell_type": "code",
   "execution_count": 7,
   "id": "94453bb2",
   "metadata": {},
   "outputs": [],
   "source": [
    "costs=[]   #list which would store the values of cost function after each iteration\n",
    "m=100    #number of training examples\n",
    "lr=0.0001  #learning rate for gradient descent algorithm\n",
    "epoch=50000 #Number of iterations of our training loop"
   ]
  },
  {
   "cell_type": "code",
   "execution_count": 8,
   "id": "13907495",
   "metadata": {},
   "outputs": [
    {
     "name": "stdout",
     "output_type": "stream",
     "text": [
      "Cost after 0 iteration :  10.106320609730286\n",
      "Cost after 1000 iteration :  8.698492892721298\n",
      "Cost after 2000 iteration :  7.486777980492174\n",
      "Cost after 3000 iteration :  6.443857024483557\n",
      "Cost after 4000 iteration :  5.546216738386092\n",
      "Cost after 5000 iteration :  4.773619276821141\n",
      "Cost after 6000 iteration :  4.108645960826502\n",
      "Cost after 7000 iteration :  3.536304563161016\n",
      "Cost after 8000 iteration :  3.0436912994367225\n",
      "Cost after 9000 iteration :  2.619699904463505\n",
      "Cost after 10000 iteration :  2.254771234755689\n",
      "Cost after 11000 iteration :  1.9406777518369376\n",
      "Cost after 12000 iteration :  1.6703380273888282\n",
      "Cost after 13000 iteration :  1.4376570881488642\n",
      "Cost after 14000 iteration :  1.2373890010369257\n",
      "Cost after 15000 iteration :  1.065018600408166\n",
      "Cost after 16000 iteration :  0.916659690901474\n",
      "Cost after 17000 iteration :  0.7889674308049931\n",
      "Cost after 18000 iteration :  0.6790629205685639\n",
      "Cost after 19000 iteration :  0.5844682962649318\n",
      "Cost after 20000 iteration :  0.5030508646427183\n",
      "Cost after 21000 iteration :  0.4329750202619796\n",
      "Cost after 22000 iteration :  0.37266086065472415\n",
      "Cost after 23000 iteration :  0.3207485664643865\n",
      "Cost after 24000 iteration :  0.27606774349259317\n",
      "Cost after 25000 iteration :  0.23761103545121998\n",
      "Cost after 26000 iteration :  0.2045114125030346\n",
      "Cost after 27000 iteration :  0.17602262354762738\n",
      "Cost after 28000 iteration :  0.15150237153699753\n",
      "Cost after 29000 iteration :  0.13039783249863393\n",
      "Cost after 30000 iteration :  0.11223319178332677\n",
      "Cost after 31000 iteration :  0.09659891653495302\n",
      "Cost after 32000 iteration :  0.0831425225234669\n",
      "Cost after 33000 iteration :  0.07156062717395714\n",
      "Cost after 34000 iteration :  0.06159210962215954\n",
      "Cost after 35000 iteration :  0.05301222358613884\n",
      "Cost after 36000 iteration :  0.04562753032468521\n",
      "Cost after 37000 iteration :  0.03927153744355052\n",
      "Cost after 38000 iteration :  0.03380094522332838\n",
      "Cost after 39000 iteration :  0.0290924158402054\n",
      "Cost after 40000 iteration :  0.02503979263969935\n",
      "Cost after 41000 iteration :  0.02155170677068706\n",
      "Cost after 42000 iteration :  0.0185495172189915\n",
      "Cost after 43000 iteration :  0.015965537797955138\n",
      "Cost after 44000 iteration :  0.013741511122305036\n",
      "Cost after 45000 iteration :  0.011827295159958933\n",
      "Cost after 46000 iteration :  0.010179732749614817\n",
      "Cost after 47000 iteration :  0.008761678596178086\n",
      "Cost after 48000 iteration :  0.007541161807560934\n",
      "Cost after 49000 iteration :  0.0064906650915795\n"
     ]
    }
   ],
   "source": [
    "for i in range(epoch):\n",
    "    y_pred=(a*x)+b\n",
    "    #print(y_pred.shape)\n",
    "    y_pred=np.reshape(y_pred,(m,1))    #predicted value , here y.shape is (100,)\n",
    "    \n",
    "    #Cost function\n",
    "    cost=(1/(2 * m)) * np.sum(abs(y-y_pred))\n",
    "    \n",
    "    #Printing calculated cost \n",
    "    if i%1000==0:\n",
    "        print(\"Cost after\",i,\"iteration : \",cost)\n",
    "        \n",
    "    costs.append(cost)                 #Appending value of cost calculated after each iteration\n",
    "    \n",
    "    da=0;db=0                          #Initialising the gradients\n",
    "    #calculating the gradients after each iteration\n",
    "    for i in range(m):\n",
    "        if(y[i]>y_pred[i]):\n",
    "            da=da-(1.5/m)*(x[i]*((y[i]-y_pred[i])))\n",
    "        elif(y[i]==y_pred[i]):\n",
    "            continue\n",
    "        else:\n",
    "            da=da+(1.5/m)*((x[i])*((y[i]-y_pred[i])))\n",
    "    for i in range(m):\n",
    "        if(y[i]>y_pred[i]):\n",
    "            db=db-(1.5/m)*np.sum((y[i]-y_pred[i]))\n",
    "        elif(y[i]==y_pred[i]):\n",
    "            continue\n",
    "        else:\n",
    "            db=db+(1.5/m)*np.sum((y[i]-y_pred[i]))\n",
    "            \n",
    "    #Updating parameters\n",
    "    a=a-(lr*da)\n",
    "    b=b-(lr*db)"
   ]
  },
  {
   "cell_type": "code",
   "execution_count": 9,
   "id": "fb4c6340",
   "metadata": {},
   "outputs": [],
   "source": [
    "#Predicted values of input array x\n",
    "pred=a*x+b"
   ]
  },
  {
   "cell_type": "code",
   "execution_count": 10,
   "id": "c3c2d2fa",
   "metadata": {},
   "outputs": [
    {
     "data": {
      "image/png": "[encoded data removed]",
      "text/plain": [
       "<Figure size 432x288 with 1 Axes>"
      ]
     },
     "metadata": {
      "needs_background": "light"
     },
     "output_type": "display_data"
    }
   ],
   "source": [
    "#Plotting the true curve along with the predicted one\n",
    "plt.plot(x,y,marker='o',color='cyan')       #Plot depicting true values     \n",
    "plt.plot(x,pred,color='red')                #Plot depicting predicted values\n",
    "plt.show()"
   ]
  },
  {
   "cell_type": "code",
   "execution_count": 16,
   "id": "715ad965",
   "metadata": {},
   "outputs": [
    {
     "data": {
      "text/plain": [
       "[<matplotlib.lines.Line2D at 0x1c5aabe5e50>]"
      ]
     },
     "execution_count": 16,
     "metadata": {},
     "output_type": "execute_result"
    },
    {
     "data": {
      "image/png": "[encoded data removed]",
      "text/plain": [
       "<Figure size 432x288 with 1 Axes>"
      ]
     },
     "metadata": {
      "needs_background": "light"
     },
     "output_type": "display_data"
    }
   ],
   "source": [
    "# Cost plot\n",
    "plt.plot(costs)"
   ]
  },
  {
   "cell_type": "code",
   "execution_count": 12,
   "id": "8458748e",
   "metadata": {},
   "outputs": [
    {
     "data": {
      "image/png": "[encoded data removed]",
      "text/plain": [
       "<Figure size 432x288 with 1 Axes>"
      ]
     },
     "metadata": {
      "needs_background": "light"
     },
     "output_type": "display_data"
    }
   ],
   "source": [
    "#Cost plot\n",
    "plt.plot(costs[10000:])\n",
    "plt.show()"
   ]
  },
  {
   "cell_type": "code",
   "execution_count": null,
   "id": "71874c77",
   "metadata": {},
   "outputs": [],
   "source": []
  }
 ],
 "metadata": {
  "kernelspec": {
   "display_name": "Python 3",
   "language": "python",
   "name": "python3"
  },
  "language_info": {
   "codemirror_mode": {
    "name": "ipython",
    "version": 3
   },
   "file_extension": ".py",
   "mimetype": "text/x-python",
   "name": "python",
   "nbconvert_exporter": "python",
   "pygments_lexer": "ipython3",
   "version": "3.8.8"
  }
 },
 "nbformat": 4,
 "nbformat_minor": 5
}
